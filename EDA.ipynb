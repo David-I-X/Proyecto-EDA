{
 "cells": [
  {
   "cell_type": "code",
   "execution_count": 2,
   "metadata": {},
   "outputs": [],
   "source": [
    "import pandas as pd\n",
    "import streamlit as st\n",
    "import matplotlib.pyplot as plt\n",
    "import seaborn as sns"
   ]
  },
  {
   "cell_type": "markdown",
   "metadata": {},
   "source": [
    "***EDA en los DataFrames Seleccionados***"
   ]
  },
  {
   "cell_type": "code",
   "execution_count": 3,
   "metadata": {},
   "outputs": [],
   "source": [
    "df_accesos= pd.read_excel('Internet.xlsx', sheet_name='Accesos por velocidad')\n",
    "penetracion_hogares = pd.read_excel('Internet.xlsx', sheet_name='Penetracion-hogares')\n",
    "totales_vmd = pd.read_excel('Internet.xlsx', sheet_name='Totales VMD')"
   ]
  },
  {
   "cell_type": "markdown",
   "metadata": {},
   "source": [
    "***ACCESO POR VELOCIDAD***\n"
   ]
  },
  {
   "cell_type": "markdown",
   "metadata": {},
   "source": [
    " Accesos por velocidad:\n",
    "\n",
    "* Verificar las columnas disponibles y su contenido.\n",
    "* Asegurarse de que las provincias estén bien representadas.\n",
    "* Comprobar si hay valores nulos o inconsistentes en los datos de accesos."
   ]
  },
  {
   "cell_type": "code",
   "execution_count": null,
   "metadata": {},
   "outputs": [],
   "source": [
    "df_accesos"
   ]
  },
  {
   "cell_type": "code",
   "execution_count": 5,
   "metadata": {},
   "outputs": [
    {
     "name": "stdout",
     "output_type": "stream",
     "text": [
      "    Año  Trimestre        Provincia  HASTA 512 kbps  + 512 Kbps - 1 Mbps  \\\n",
      "0  2024          1     Buenos Aires         26002.0              22510.0   \n",
      "1  2024          1  Capital Federal           516.0               5418.0   \n",
      "2  2024          1        Catamarca            71.0                176.0   \n",
      "3  2024          1            Chaco           236.0                416.0   \n",
      "4  2024          1           Chubut           111.0               1083.0   \n",
      "\n",
      "   + 1 Mbps - 6 Mbps  + 6 Mbps - 10 Mbps  + 10 Mbps - 20 Mbps  \\\n",
      "0           221185.0            233225.0             241778.0   \n",
      "1            29753.0             51415.0              37369.0   \n",
      "2             2872.0              3424.0               4204.0   \n",
      "3            14156.0              9044.0               5533.0   \n",
      "4            43828.0             31885.0              23024.0   \n",
      "\n",
      "   + 20 Mbps - 30 Mbps  + 30 Mbps     OTROS      Total  \n",
      "0             106418.0  4068292.0  125147.0  5044557.0  \n",
      "1               5957.0  1374283.0       0.0  1504711.0  \n",
      "2               1822.0    62294.0      70.0    74933.0  \n",
      "3               5718.0   116624.0    3816.0   155543.0  \n",
      "4              20261.0    33844.0   16640.0   170676.0  \n",
      "<class 'pandas.core.frame.DataFrame'>\n",
      "RangeIndex: 984 entries, 0 to 983\n",
      "Data columns (total 12 columns):\n",
      " #   Column               Non-Null Count  Dtype  \n",
      "---  ------               --------------  -----  \n",
      " 0   Año                  984 non-null    int64  \n",
      " 1   Trimestre            984 non-null    int64  \n",
      " 2   Provincia            984 non-null    object \n",
      " 3   HASTA 512 kbps       984 non-null    float64\n",
      " 4   + 512 Kbps - 1 Mbps  984 non-null    float64\n",
      " 5   + 1 Mbps - 6 Mbps    984 non-null    float64\n",
      " 6   + 6 Mbps - 10 Mbps   984 non-null    float64\n",
      " 7   + 10 Mbps - 20 Mbps  984 non-null    float64\n",
      " 8   + 20 Mbps - 30 Mbps  984 non-null    float64\n",
      " 9   + 30 Mbps            984 non-null    float64\n",
      " 10  OTROS                978 non-null    float64\n",
      " 11  Total                984 non-null    float64\n",
      "dtypes: float64(9), int64(2), object(1)\n",
      "memory usage: 92.4+ KB\n",
      "None\n",
      "Año                    0\n",
      "Trimestre              0\n",
      "Provincia              0\n",
      "HASTA 512 kbps         0\n",
      "+ 512 Kbps - 1 Mbps    0\n",
      "+ 1 Mbps - 6 Mbps      0\n",
      "+ 6 Mbps - 10 Mbps     0\n",
      "+ 10 Mbps - 20 Mbps    0\n",
      "+ 20 Mbps - 30 Mbps    0\n",
      "+ 30 Mbps              0\n",
      "OTROS                  6\n",
      "Total                  0\n",
      "dtype: int64\n"
     ]
    }
   ],
   "source": [
    "# Mostrar las primeras filas y la estructura del DataFrame\n",
    "print(df_accesos.head())\n",
    "print(df_accesos.info())\n",
    "\n",
    "# Verificar si hay valores nulos\n",
    "print(df_accesos.isnull().sum())"
   ]
  },
  {
   "cell_type": "markdown",
   "metadata": {},
   "source": [
    "*Conclusiones preliminares*\n",
    "\n",
    "* Columnas disponibles y contenido: El DataFrame tiene una estructura adecuada para analizar los accesos por velocidad, con columnas claramente definidas para cada categoría de velocidad.\n",
    "\n",
    "* Representación de provincias: Es importante confirmar que todas las provincias están bien representadas. Esto se puede verificar contando las ocurrencias de cada provincia.\n",
    "\n",
    "* Valores nulos: Hay algunos valores nulos en la columna OTROS, pero esto se puede manejar fácilmente rellenándolos con 0, ya que representan una pequeña fracción del total.\n",
    "\n"
   ]
  },
  {
   "cell_type": "code",
   "execution_count": 4,
   "metadata": {},
   "outputs": [
    {
     "name": "stderr",
     "output_type": "stream",
     "text": [
      "C:\\Users\\david\\AppData\\Local\\Temp\\ipykernel_10440\\1706780913.py:2: FutureWarning: A value is trying to be set on a copy of a DataFrame or Series through chained assignment using an inplace method.\n",
      "The behavior will change in pandas 3.0. This inplace method will never work because the intermediate object on which we are setting values always behaves as a copy.\n",
      "\n",
      "For example, when doing 'df[col].method(value, inplace=True)', try using 'df.method({col: value}, inplace=True)' or df[col] = df[col].method(value) instead, to perform the operation inplace on the original object.\n",
      "\n",
      "\n",
      "  df_accesos['OTROS'].fillna(0, inplace=True)\n"
     ]
    }
   ],
   "source": [
    "# manejo de nulos\n",
    "df_accesos['OTROS'].fillna(0, inplace=True)"
   ]
  },
  {
   "cell_type": "code",
   "execution_count": 5,
   "metadata": {},
   "outputs": [
    {
     "name": "stdout",
     "output_type": "stream",
     "text": [
      "Número de filas duplicadas: 0\n"
     ]
    }
   ],
   "source": [
    "# Verificar si hay filas duplicadas\n",
    "duplicated_rows = df_accesos.duplicated()\n",
    "print(f\"Número de filas duplicadas: {duplicated_rows.sum()}\")\n",
    "\n",
    "# Eliminar filas duplicadas\n",
    "df_accesos = df_accesos.drop_duplicates()\n"
   ]
  },
  {
   "cell_type": "code",
   "execution_count": 6,
   "metadata": {},
   "outputs": [
    {
     "name": "stdout",
     "output_type": "stream",
     "text": [
      "Index(['año', 'trimestre', 'provincia', 'hasta_512_kbps',\n",
      "       'entre_512kbps_y_1mbps', 'entre_1mbps_y_6mbps', 'entre_6mbps_y_10mbps',\n",
      "       'entre_10mbps_y_20mbps', 'entre_20mbps_y_30mbps', 'mas_de_30mbps',\n",
      "       'otros', 'total'],\n",
      "      dtype='object')\n"
     ]
    }
   ],
   "source": [
    "# Estandarizar nombres de columnas\n",
    "df_accesos.columns = [\n",
    "    'año', 'trimestre', 'provincia', 'hasta_512_kbps', 'entre_512kbps_y_1mbps', \n",
    "    'entre_1mbps_y_6mbps', 'entre_6mbps_y_10mbps', 'entre_10mbps_y_20mbps', \n",
    "    'entre_20mbps_y_30mbps', 'mas_de_30mbps', 'otros', 'total'\n",
    "]\n",
    "\n",
    "# Verificar los nombres de las columnas\n",
    "print(df_accesos.columns)"
   ]
  },
  {
   "cell_type": "markdown",
   "metadata": {},
   "source": [
    "*Cálculo del KPI Propuesto*\n",
    "\n",
    "*KPI Propuesto:* Aumento del 2% en el acceso a internet cada 100 hogares por provincia"
   ]
  },
  {
   "cell_type": "code",
   "execution_count": 7,
   "metadata": {},
   "outputs": [
    {
     "name": "stdout",
     "output_type": "stream",
     "text": [
      "               provincia  Accesos_Actuales  Nuevo_Acceso  KPI\n",
      "0           Buenos Aires         5044557.0    5145448.14  2.0\n",
      "1        Capital Federal         1504711.0    1534805.22  2.0\n",
      "2              Catamarca           74933.0      76431.66  2.0\n",
      "3                  Chaco          155543.0     158653.86  2.0\n",
      "4                 Chubut          170676.0     174089.52  2.0\n",
      "..                   ...               ...           ...  ...\n",
      "979           Santa Cruz           26760.0      27295.20  2.0\n",
      "980             Santa Fe          506013.0     516133.26  2.0\n",
      "981  Santiago Del Estero           37113.0      37855.26  2.0\n",
      "982     Tierra Del Fuego           31527.0      32157.54  2.0\n",
      "983              Tucumán          130032.0     132632.64  2.0\n",
      "\n",
      "[984 rows x 4 columns]\n"
     ]
    }
   ],
   "source": [
    "# Calcular el acceso actual por provincia (suponiendo que 'total' representa el acceso actual)\n",
    "df_accesos['Accesos_Actuales'] = df_accesos['total']\n",
    "\n",
    "# Proyección del nuevo acceso (simulando un aumento del 2%)\n",
    "df_accesos['Nuevo_Acceso'] = df_accesos['Accesos_Actuales'] * 1.02\n",
    "\n",
    "# Calcular el KPI\n",
    "df_accesos['KPI'] = ((df_accesos['Nuevo_Acceso'] - df_accesos['Accesos_Actuales']) / df_accesos['Accesos_Actuales']) * 100\n",
    "\n",
    "# Ver resultados\n",
    "print(df_accesos[['provincia', 'Accesos_Actuales', 'Nuevo_Acceso', 'KPI']])"
   ]
  },
  {
   "cell_type": "markdown",
   "metadata": {},
   "source": [
    "**conclusiones de los Resultados**\n",
    "\n",
    "* Incremento Uniforme del 2%: El análisis muestra que todas las provincias tienen un incremento uniforme del 2% en el acceso a internet, cumpliendo con el KPI propuesto. Esto refleja un aumento positivo en cada provincia, aunque el impacto absoluto varía según el número de accesos actuales.\n",
    "\n",
    "* Provincias con Mayor Impacto Absoluto: Las provincias con mayores números absolutos de nuevos accesos son Buenos Aires, Capital Federal, y Santa Fe. Esto se debe a su mayor base de accesos actuales, lo que implica que cualquier incremento porcentual resulta en un mayor número absoluto de nuevos accesos.\n",
    "\n",
    "* Provincias con Menor Impacto Absoluto: Las provincias como Catamarca, Santiago Del Estero y Tierra Del Fuego tienen menores incrementos absolutos debido a su base de accesos actuales más baja, aunque el incremento porcentual es el mismo."
   ]
  },
  {
   "cell_type": "markdown",
   "metadata": {},
   "source": [
    "**Implementación**\n",
    "\n",
    "Para implementar estas propuestas, se pueden seguir los siguientes pasos:\n",
    "\n",
    "*Evaluación Inicial:*\n",
    "\n",
    "* Realizar un diagnóstico detallado de la infraestructura actual y la penetración del acceso a internet en cada provincia.\n",
    "Identificar áreas prioritarias para la expansión y mejora de servicios.\n",
    "Planificación y Presupuesto:\n",
    "\n",
    "* Desarrollar un plan de acción detallado que incluya un cronograma y un presupuesto para cada iniciativa.\n",
    "Asignar recursos y definir responsabilidades para la ejecución de cada componente del plan.\n",
    "\n",
    "*Ejecución y Monitoreo:*\n",
    "\n",
    "* Implementar las acciones planificadas, asegurando la coordinación entre las diferentes partes involucradas.\n",
    "\n",
    "* Monitorear el progreso y los resultados de manera continua, ajustando las estrategias según sea necesario.\n",
    "\n",
    "*Informe y Comunicación:*\n",
    "\n",
    "* Informar a todas las partes interesadas sobre el progreso y los resultados alcanzados.\n",
    "\n",
    "* Mantener una comunicación abierta y transparente con la población sobre las mejoras y las oportunidades de acceso a internet."
   ]
  },
  {
   "cell_type": "markdown",
   "metadata": {},
   "source": [
    "***Gráfico de Barras del Número de Accesos Actuales y Proyectados por Provincia***"
   ]
  },
  {
   "cell_type": "code",
   "execution_count": 10,
   "metadata": {},
   "outputs": [],
   "source": [
    "# 1. Gráfico de Barras\n",
    "plt.figure(figsize=(14, 8))\n",
    "sns.barplot(x='provincia', y='Accesos_Actuales', data=df_accesos, color='blue', label='Accesos Actuales')\n",
    "sns.barplot(x='provincia', y='Nuevo_Acceso', data=df_accesos, color='orange', alpha=0.6, label='Accesos Proyectados')\n",
    "plt.xlabel('Provincia')\n",
    "plt.ylabel('Número de Accesos')\n",
    "plt.title('Accesos Actuales y Proyectados por Provincia')\n",
    "plt.xticks(rotation=90)\n",
    "plt.legend()\n",
    "plt.savefig('accesos_actuales_proyectados.png')  # Guardar el gráfico como un archivo de imagen\n",
    "plt.close()  # Cerrar la figura"
   ]
  },
  {
   "cell_type": "markdown",
   "metadata": {},
   "source": [
    "***Mapa de Calor del Aumento Porcentual de Accesos por Provincia***"
   ]
  },
  {
   "cell_type": "code",
   "execution_count": 11,
   "metadata": {},
   "outputs": [],
   "source": [
    "# 2. Mapa de Calor\n",
    "plt.figure(figsize=(14, 8))\n",
    "heatmap_data = df_accesos.pivot_table(index='provincia', values='KPI')\n",
    "sns.heatmap(heatmap_data, annot=True, cmap='YlGnBu', cbar_kws={'label': 'Porcentaje de Aumento (%)'})\n",
    "plt.xlabel('KPI')\n",
    "plt.ylabel('Provincia')\n",
    "plt.title('Mapa de Calor del Aumento Porcentual de Accesos por Provincia')\n",
    "plt.savefig('mapa_calor_aumento_accesos.png')  # Guardar el gráfico como un archivo de imagen\n",
    "plt.close()  # Cerrar la figura\n"
   ]
  },
  {
   "cell_type": "markdown",
   "metadata": {},
   "source": [
    "***Gráfico de Dispersión Mostrando la Relación entre los Accesos Actuales y el Incremento Absoluto Proyectado***"
   ]
  },
  {
   "cell_type": "code",
   "execution_count": 16,
   "metadata": {},
   "outputs": [],
   "source": [
    "# 3. Gráfico de Dispersión\n",
    "plt.figure(figsize=(14, 8))\n",
    "sns.scatterplot(data=df_accesos,x='Accesos_Actuales', y='Incremento_Absoluto', hue='provincia', palette='tab10', s=100)\n",
    "plt.xlabel('Accesos Actuales')\n",
    "plt.ylabel('Incremento Absoluto Proyectado')\n",
    "plt.title('Relación entre los Accesos Actuales y el Incremento Absoluto Proyectado')\n",
    "plt.savefig('dispersión_accesos_incremento.png')  # Guardar el gráfico como un archivo de imagen\n",
    "plt.close()  # Cerrar la figura"
   ]
  },
  {
   "cell_type": "markdown",
   "metadata": {},
   "source": [
    "***PENETRACION HOGARES***"
   ]
  },
  {
   "cell_type": "markdown",
   "metadata": {},
   "source": [
    "***TOTALES VMD***\n"
   ]
  }
 ],
 "metadata": {
  "kernelspec": {
   "display_name": "streamlit",
   "language": "python",
   "name": "python3"
  },
  "language_info": {
   "codemirror_mode": {
    "name": "ipython",
    "version": 3
   },
   "file_extension": ".py",
   "mimetype": "text/x-python",
   "name": "python",
   "nbconvert_exporter": "python",
   "pygments_lexer": "ipython3",
   "version": "3.11.5"
  }
 },
 "nbformat": 4,
 "nbformat_minor": 2
}
